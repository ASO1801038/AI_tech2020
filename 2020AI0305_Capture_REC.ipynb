{
  "nbformat": 4,
  "nbformat_minor": 0,
  "metadata": {
    "colab": {
      "name": "2020AI0305-Capture-REC.ipynb",
      "provenance": [],
      "authorship_tag": "ABX9TyNeZEIBtmrtBk4Y/v12ahwn",
      "include_colab_link": true
    },
    "kernelspec": {
      "name": "python3",
      "display_name": "Python 3"
    }
  },
  "cells": [
    {
      "cell_type": "markdown",
      "metadata": {
        "id": "view-in-github",
        "colab_type": "text"
      },
      "source": [
        "<a href=\"https://colab.research.google.com/github/ASO1801038/AI_teach2020/blob/master/2020AI0305_Capture_REC.ipynb\" target=\"_parent\"><img src=\"https://colab.research.google.com/assets/colab-badge.svg\" alt=\"Open In Colab\"/></a>"
      ]
    },
    {
      "cell_type": "code",
      "metadata": {
        "id": "zT7x8mVkMDm1"
      },
      "source": [
        "#キャプチャ加工して録画\n",
        "import cv2,os\n",
        "import urllib.request as req\n",
        "\n",
        "url = \"https://github.com/masatokg/sample_photo/raw/master/fish.mp4\"\n",
        "save_file = \"fish.mp4\"\n",
        "req.urlretrieve(url,save_file)\n",
        "\n",
        "out_file = \"out.mp4\"\n",
        "cap = cv2.VideoCapture(sava_file)\n",
        "\n",
        "fourcc = cv2.VideoWriter_fourcc('M','P','4','V')\n",
        "#フレームレート\n",
        "fps = 30.0"
      ],
      "execution_count": null,
      "outputs": []
    },
    {
      "cell_type": "code",
      "metadata": {
        "id": "deQY90kmOU3D"
      },
      "source": [
        "def process_img(frame):\n",
        "  frame[:,:,0] = 0;\n",
        "  frame[:,:,1] = 0;\n",
        "  return frame"
      ],
      "execution_count": null,
      "outputs": []
    },
    {
      "cell_type": "code",
      "metadata": {
        "id": "YnYnP4g4OtWy"
      },
      "source": [
        "def open_recorder(frame):\n",
        "  h = len(frame)\n",
        "  w = len(frame[0])\n",
        "  size = (w,h)\n",
        "\n",
        "  recorder = cv2.VideoWriter(out_file, fourcc, fps, size, isColor = True)\n",
        "  return recorder"
      ],
      "execution_count": null,
      "outputs": []
    },
    {
      "cell_type": "code",
      "metadata": {
        "colab": {
          "base_uri": "https://localhost:8080/"
        },
        "id": "5JWbyW6nQHki",
        "outputId": "505e887b-69ce-420e-ac31-8a35e82b7cc8"
      },
      "source": [
        "is_ok, frame = cap.read()\n",
        "\n",
        "if is_ok:\n",
        "  print(\"1 frame has read.\")\n",
        "  recorder = open_recorder(frame)\n",
        "  while True:\n",
        "    frame = process_img(frame)\n",
        "    recorder.write(frame)\n",
        "    is_ok, frame = cap.read()\n",
        "    if is_ok is not True:\n",
        "      break\n",
        "\n",
        "else:\n",
        "  print(\"There is no frame.\")"
      ],
      "execution_count": null,
      "outputs": [
        {
          "output_type": "stream",
          "text": [
            "1 frame has read.\n"
          ],
          "name": "stdout"
        }
      ]
    },
    {
      "cell_type": "code",
      "metadata": {
        "colab": {
          "base_uri": "https://localhost:8080/",
          "height": 53
        },
        "id": "MgrQPUvhRIU1",
        "outputId": "d6630fe3-6376-456e-eb27-925cf751012e"
      },
      "source": [
        "#DL\n",
        "recorder.release()\n",
        "cap.release()\n",
        "print(\"capture and recording end.\")\n",
        "from google.colab import files\n",
        "files.download(out_file)"
      ],
      "execution_count": null,
      "outputs": [
        {
          "output_type": "stream",
          "text": [
            "capture and recording end.\n"
          ],
          "name": "stdout"
        },
        {
          "output_type": "display_data",
          "data": {
            "application/javascript": [
              "\n",
              "    async function download(id, filename, size) {\n",
              "      if (!google.colab.kernel.accessAllowed) {\n",
              "        return;\n",
              "      }\n",
              "      const div = document.createElement('div');\n",
              "      const label = document.createElement('label');\n",
              "      label.textContent = `Downloading \"${filename}\": `;\n",
              "      div.appendChild(label);\n",
              "      const progress = document.createElement('progress');\n",
              "      progress.max = size;\n",
              "      div.appendChild(progress);\n",
              "      document.body.appendChild(div);\n",
              "\n",
              "      const buffers = [];\n",
              "      let downloaded = 0;\n",
              "\n",
              "      const channel = await google.colab.kernel.comms.open(id);\n",
              "      // Send a message to notify the kernel that we're ready.\n",
              "      channel.send({})\n",
              "\n",
              "      for await (const message of channel.messages) {\n",
              "        // Send a message to notify the kernel that we're ready.\n",
              "        channel.send({})\n",
              "        if (message.buffers) {\n",
              "          for (const buffer of message.buffers) {\n",
              "            buffers.push(buffer);\n",
              "            downloaded += buffer.byteLength;\n",
              "            progress.value = downloaded;\n",
              "          }\n",
              "        }\n",
              "      }\n",
              "      const blob = new Blob(buffers, {type: 'application/binary'});\n",
              "      const a = document.createElement('a');\n",
              "      a.href = window.URL.createObjectURL(blob);\n",
              "      a.download = filename;\n",
              "      div.appendChild(a);\n",
              "      a.click();\n",
              "      div.remove();\n",
              "    }\n",
              "  "
            ],
            "text/plain": [
              "<IPython.core.display.Javascript object>"
            ]
          },
          "metadata": {
            "tags": []
          }
        },
        {
          "output_type": "display_data",
          "data": {
            "application/javascript": [
              "download(\"download_10b1ef64-b705-4f23-a23d-01e26aaae666\", \"out.mp4\", 11128507)"
            ],
            "text/plain": [
              "<IPython.core.display.Javascript object>"
            ]
          },
          "metadata": {
            "tags": []
          }
        }
      ]
    }
  ]
}