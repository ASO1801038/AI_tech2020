{
  "nbformat": 4,
  "nbformat_minor": 0,
  "metadata": {
    "colab": {
      "name": "2020AI0305-fishvideo-ML.ipynb",
      "provenance": [],
      "authorship_tag": "ABX9TyP7roxCzzws0vmpGlIjHo4p",
      "include_colab_link": true
    },
    "kernelspec": {
      "name": "python3",
      "display_name": "Python 3"
    }
  },
  "cells": [
    {
      "cell_type": "markdown",
      "metadata": {
        "id": "view-in-github",
        "colab_type": "text"
      },
      "source": [
        "<a href=\"https://colab.research.google.com/github/ASO1801038/AI_teach2020/blob/master/2020AI0305_fishvideo_ML.ipynb\" target=\"_parent\"><img src=\"https://colab.research.google.com/assets/colab-badge.svg\" alt=\"Open In Colab\"/></a>"
      ]
    },
    {
      "cell_type": "code",
      "metadata": {
        "id": "Y2e6kx-qWCxP"
      },
      "source": [
        "#魚アリ\n",
        "import urllib.request as req\n",
        "url = \"https://github.com/masatokg/sample_photo/raw/master/fish.zip\"\n",
        "save_file = \"fish.zip\"\n",
        "req.urlretrieve(url,save_file)\n",
        "\n",
        "#魚ナシ\n",
        "import urllib.request as req\n",
        "url = \"https://github.com/masatokg/sample_photo/raw/master/nofish.zip\"\n",
        "save_file = \"nofish.zip\"\n",
        "req.urlretrieve(url,save_file)\n",
        "\n",
        "#解凍\n",
        "!unzip -o -q \"./fish.zip\"\n",
        "!unzip -o -q \"./nofish.zip\""
      ],
      "execution_count": 5,
      "outputs": []
    },
    {
      "cell_type": "code",
      "metadata": {
        "colab": {
          "base_uri": "https://localhost:8080/"
        },
        "id": "6rS7ThyoYS_z",
        "outputId": "53a7d77f-efad-4e15-9252-e13a170f1e48"
      },
      "source": [
        "import cv2\n",
        "import os, glob, pickle\n",
        "from sklearn.model_selection import train_test_split\n",
        "from sklearn import datasets, metrics\n",
        "from sklearn.ensemble import RandomForestClassifier\n",
        "from sklearn.metrics import accuracy_score\n",
        "\n",
        "image_size = (64,32)\n",
        "path = \"/content\"\n",
        "path_fish = path + \"/fish\"\n",
        "path_nofish = \"/nofish\"\n",
        "x = []\n",
        "y = []\n",
        "print(path_fish)\n",
        "print(path_nofish)"
      ],
      "execution_count": 6,
      "outputs": [
        {
          "output_type": "stream",
          "text": [
            "/content/fish\n",
            "/nofish\n"
          ],
          "name": "stdout"
        }
      ]
    },
    {
      "cell_type": "code",
      "metadata": {
        "id": "QSzJd3uiaE4G"
      },
      "source": [
        "#関数の定義\n",
        "def read_dir(path, label, x, y, image_size):\n",
        "  files = glob.glob(path + \"/*.jpg\")\n",
        "  print(files)\n",
        "  for f in files:\n",
        "    #読込\n",
        "    img = cv2.imread(f)\n",
        "    img = cv2.resize(img, image_size)\n",
        "    img_data = img.reshape(-1)\n",
        "    x.append(img_data)\n",
        "    y.append(label)"
      ],
      "execution_count": 8,
      "outputs": []
    },
    {
      "cell_type": "code",
      "metadata": {
        "colab": {
          "base_uri": "https://localhost:8080/"
        },
        "id": "H4TXBxjacPhz",
        "outputId": "40f8f8da-5927-4e7a-b940-b1662fee3805"
      },
      "source": [
        "#画像読込\n",
        "read_dir(path_nofish, 0, x, y, image_size)\n",
        "read_dir(path_fish, 1, x, y, image_size)\n",
        "\n",
        "#分割\n",
        "x_train, x_test, y_train, y_test = train_test_split(x,y,test_size = 0.2)\n",
        "\n",
        "#学習モデルを生成、学習\n",
        "clf = RandomForestClassifier()\n",
        "clf.fit(x_train,y_train)\n",
        "\n",
        "#精度確認\n",
        "y_pred = clf.predict(x_test)\n",
        "print(accuracy_score(y_test,y_pred))\n",
        "\n",
        "#ファイル保存\n",
        "with open(\"fish.pkl\",\"wb\") as fp:\n",
        "  pickle.dump(clf, fp)"
      ],
      "execution_count": 12,
      "outputs": [
        {
          "output_type": "stream",
          "text": [
            "[]\n",
            "['/content/fish/1254.jpg', '/content/fish/1286.jpg', '/content/fish/1158.jpg', '/content/fish/1231.jpg', '/content/fish/1394.jpg', '/content/fish/274.jpg', '/content/fish/1414.jpg', '/content/fish/2815.jpg', '/content/fish/248.jpg', '/content/fish/1268.jpg', '/content/fish/2863.jpg', '/content/fish/1969.jpg', '/content/fish/170.jpg', '/content/fish/1531.jpg', '/content/fish/223.jpg', '/content/fish/1260.jpg', '/content/fish/1395.jpg', '/content/fish/3029.jpg', '/content/fish/1551.jpg', '/content/fish/1377.jpg', '/content/fish/3193.jpg', '/content/fish/1287.jpg', '/content/fish/1326.jpg', '/content/fish/3798.jpg', '/content/fish/209.jpg', '/content/fish/1996.jpg', '/content/fish/3964.jpg', '/content/fish/4014.jpg', '/content/fish/3769.jpg', '/content/fish/1249.jpg', '/content/fish/1988.jpg', '/content/fish/3763.jpg', '/content/fish/1308.jpg', '/content/fish/2827.jpg', '/content/fish/3030.jpg', '/content/fish/1950.jpg', '/content/fish/1443.jpg', '/content/fish/1247.jpg', '/content/fish/1154.jpg', '/content/fish/256.jpg', '/content/fish/1991.jpg', '/content/fish/1225.jpg', '/content/fish/2626.jpg', '/content/fish/1442.jpg', '/content/fish/2588.jpg', '/content/fish/1263.jpg', '/content/fish/1392.jpg', '/content/fish/1949.jpg', '/content/fish/1980.jpg', '/content/fish/2595.jpg', '/content/fish/1974.jpg', '/content/fish/1452.jpg', '/content/fish/3185.jpg', '/content/fish/3816.jpg', '/content/fish/1283.jpg', '/content/fish/1357.jpg', '/content/fish/1087.jpg', '/content/fish/3804.jpg', '/content/fish/3234.jpg', '/content/fish/1177.jpg', '/content/fish/1318.jpg', '/content/fish/1165.jpg', '/content/fish/1454.jpg', '/content/fish/3803.jpg', '/content/fish/3197.jpg', '/content/fish/1418.jpg', '/content/fish/2631.jpg', '/content/fish/1450.jpg', '/content/fish/1179.jpg', '/content/fish/1877.jpg', '/content/fish/1951.jpg', '/content/fish/2814.jpg', '/content/fish/1346.jpg', '/content/fish/2861.jpg', '/content/fish/1290.jpg', '/content/fish/1224.jpg', '/content/fish/1322.jpg', '/content/fish/1421.jpg', '/content/fish/2006.jpg', '/content/fish/1954.jpg', '/content/fish/1352.jpg', '/content/fish/1381.jpg', '/content/fish/2874.jpg', '/content/fish/1935.jpg', '/content/fish/1245.jpg', '/content/fish/2979.jpg', '/content/fish/1191.jpg', '/content/fish/1339.jpg', '/content/fish/1371.jpg', '/content/fish/4030.jpg', '/content/fish/1984.jpg', '/content/fish/2599.jpg', '/content/fish/2623.jpg', '/content/fish/268.jpg', '/content/fish/1411.jpg', '/content/fish/1368.jpg', '/content/fish/2858.jpg', '/content/fish/2836.jpg', '/content/fish/252.jpg', '/content/fish/1264.jpg', '/content/fish/1440.jpg', '/content/fish/3806.jpg', '/content/fish/1940.jpg', '/content/fish/1922.jpg', '/content/fish/1429.jpg', '/content/fish/2044.jpg', '/content/fish/3733.jpg', '/content/fish/228.jpg', '/content/fish/216.jpg', '/content/fish/2047.jpg', '/content/fish/1335.jpg', '/content/fish/1557.jpg', '/content/fish/239.jpg', '/content/fish/4029.jpg', '/content/fish/1438.jpg', '/content/fish/1946.jpg', '/content/fish/2042.jpg', '/content/fish/2785.jpg', '/content/fish/373.jpg', '/content/fish/276.jpg', '/content/fish/1330.jpg', '/content/fish/1436.jpg', '/content/fish/2059.jpg', '/content/fish/2993.jpg', '/content/fish/2850.jpg', '/content/fish/1944.jpg', '/content/fish/213.jpg', '/content/fish/2786.jpg', '/content/fish/3191.jpg', '/content/fish/3983.jpg', '/content/fish/3965.jpg', '/content/fish/74.jpg', '/content/fish/1161.jpg', '/content/fish/3819.jpg', '/content/fish/2066.jpg', '/content/fish/2853.jpg', '/content/fish/1232.jpg', '/content/fish/3800.jpg', '/content/fish/1435.jpg', '/content/fish/3036.jpg', '/content/fish/2982.jpg', '/content/fish/3810.jpg', '/content/fish/1391.jpg', '/content/fish/1280.jpg', '/content/fish/3811.jpg', '/content/fish/3814.jpg', '/content/fish/3950.jpg', '/content/fish/1275.jpg', '/content/fish/2634.jpg', '/content/fish/231.jpg']\n",
            "1.0\n"
          ],
          "name": "stdout"
        }
      ]
    },
    {
      "cell_type": "code",
      "metadata": {
        "id": "zfjMzcQ_eOmY"
      },
      "source": [
        "import cv2, os, copy, pickle\n",
        "from google.colab.patches import cv2_imshow\n",
        "\n",
        "#学習済モデルを読込\n",
        "with open(\"fish.pkl\",\"rb\") as fp:\n",
        "  clf = pickle.load(fp)\n",
        "\n",
        "output_dir = \"./bestshot\"\n",
        "if not os.path.isdir(output_dir): os.mkdir(output_dir)\n",
        "\n",
        "img_last = None\n",
        "fish_th = 3\n",
        "count = 0\n",
        "frame_count = 0"
      ],
      "execution_count": 19,
      "outputs": []
    },
    {
      "cell_type": "code",
      "metadata": {
        "colab": {
          "base_uri": "https://localhost:8080/"
        },
        "id": "0XKfHHULfeNE",
        "outputId": "9faa8abd-093c-4ba4-9926-7f37740b8f03"
      },
      "source": [
        "#動画読込処理\n",
        "url = \"https://github.com/masatokg/sample_photo/raw/master/fish.zip\"\n",
        "save_file = \"fish.mp4\"\n",
        "req.urlretrieve(url,save_file)"
      ],
      "execution_count": 20,
      "outputs": [
        {
          "output_type": "execute_result",
          "data": {
            "text/plain": [
              "('fish.mp4', <http.client.HTTPMessage at 0x7f251a972ac8>)"
            ]
          },
          "metadata": {
            "tags": []
          },
          "execution_count": 20
        }
      ]
    },
    {
      "cell_type": "code",
      "metadata": {
        "colab": {
          "base_uri": "https://localhost:8080/",
          "height": 259
        },
        "id": "SeWm4zRsk58h",
        "outputId": "8d794ba4-39a7-4c8b-b7a0-5f8de63e7d64"
      },
      "source": [
        "cap = cv2.VideoCapture(save_file)\n",
        "while True:\n",
        "  is_ok, frame = cap.read()\n",
        "  if not is_ok:\n",
        "    print(\"end\")\n",
        "    break\n",
        "\n",
        "frame = cv2.resize(frame, (640,360))\n",
        "frame2 = copy.copy(frame)\n",
        "frame_count += 1\n",
        "gray = cv2.cvtColor(frame,cv2.COROL_BGR2GRAY)\n",
        "gray = cv2.GaussianBlur(gray,(15,15),0)\n",
        "img_b = cv2.threshold(gray,127,255,cv2.THRESH_BINARY)[1]\n",
        "\n",
        "if not img_last is None:\n",
        "  frame_diff = cv2.absdiff(img_last,img_b)\n",
        "  cnts = cv2.findContours(frame_diff,cv2.RETR_EXTERNAL,cv2.CHAIN_APPROX_SIMPLE)[0]\n",
        "  fish_count = 0\n",
        "  for pt in cnts:\n",
        "    x,y,w,h = cv2.boundingRect(pt)\n",
        "    if w<100 or w>500:\n",
        "      continue\n",
        "\n",
        "    imgex = frame[y:y+h,x:x+w]\n",
        "    imgex = cv2.resize(imgex,(64,32))\n",
        "    image_data = imgex.reshape(-1,)\n",
        "\n",
        "    pred_y = clf.predict([image_data])\n",
        "\n",
        "    if pred_y[0] == 1:\n",
        "      fish_count += 1\n",
        "      cv2.rectangle(frame2,(x,y),(x+w,y+h),(0,255,0),2)\n",
        "  #syuturyoku\n",
        "  if fish_count > fish_th:\n",
        "    fname = output_dir + \"/fish\" + str(count) + \".jpg\"\n",
        "    cv2.imwrite(fname,frame)\n",
        "    count += 1\n",
        "\n",
        "  img_last = img_b\n",
        "\n",
        "cap.release()\n",
        "print(\"ok\",count, \"/\", frame_count, \"/枚検出\")"
      ],
      "execution_count": 30,
      "outputs": [
        {
          "output_type": "stream",
          "text": [
            "end\n"
          ],
          "name": "stdout"
        },
        {
          "output_type": "error",
          "ename": "error",
          "evalue": "ignored",
          "traceback": [
            "\u001b[0;31m---------------------------------------------------------------------------\u001b[0m",
            "\u001b[0;31merror\u001b[0m                                     Traceback (most recent call last)",
            "\u001b[0;32m<ipython-input-30-3b72942fa765>\u001b[0m in \u001b[0;36m<module>\u001b[0;34m()\u001b[0m\n\u001b[1;32m      6\u001b[0m     \u001b[0;32mbreak\u001b[0m\u001b[0;34m\u001b[0m\u001b[0;34m\u001b[0m\u001b[0m\n\u001b[1;32m      7\u001b[0m \u001b[0;34m\u001b[0m\u001b[0m\n\u001b[0;32m----> 8\u001b[0;31m \u001b[0mframe\u001b[0m \u001b[0;34m=\u001b[0m \u001b[0mcv2\u001b[0m\u001b[0;34m.\u001b[0m\u001b[0mresize\u001b[0m\u001b[0;34m(\u001b[0m\u001b[0mframe\u001b[0m\u001b[0;34m,\u001b[0m \u001b[0;34m(\u001b[0m\u001b[0;36m640\u001b[0m\u001b[0;34m,\u001b[0m\u001b[0;36m360\u001b[0m\u001b[0;34m)\u001b[0m\u001b[0;34m)\u001b[0m\u001b[0;34m\u001b[0m\u001b[0;34m\u001b[0m\u001b[0m\n\u001b[0m\u001b[1;32m      9\u001b[0m \u001b[0mframe2\u001b[0m \u001b[0;34m=\u001b[0m \u001b[0mcopy\u001b[0m\u001b[0;34m.\u001b[0m\u001b[0mcopy\u001b[0m\u001b[0;34m(\u001b[0m\u001b[0mframe\u001b[0m\u001b[0;34m)\u001b[0m\u001b[0;34m\u001b[0m\u001b[0;34m\u001b[0m\u001b[0m\n\u001b[1;32m     10\u001b[0m \u001b[0mframe_count\u001b[0m \u001b[0;34m+=\u001b[0m \u001b[0;36m1\u001b[0m\u001b[0;34m\u001b[0m\u001b[0;34m\u001b[0m\u001b[0m\n",
            "\u001b[0;31merror\u001b[0m: OpenCV(4.1.2) /io/opencv/modules/imgproc/src/resize.cpp:3720: error: (-215:Assertion failed) !ssize.empty() in function 'resize'\n"
          ]
        }
      ]
    }
  ]
}