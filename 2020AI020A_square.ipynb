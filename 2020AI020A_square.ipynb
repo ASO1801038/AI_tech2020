{
  "nbformat": 4,
  "nbformat_minor": 0,
  "metadata": {
    "colab": {
      "name": "2020AI020A-square.ipynb",
      "provenance": [],
      "collapsed_sections": [],
      "include_colab_link": true
    },
    "kernelspec": {
      "name": "python3",
      "display_name": "Python 3"
    }
  },
  "cells": [
    {
      "cell_type": "markdown",
      "metadata": {
        "id": "view-in-github",
        "colab_type": "text"
      },
      "source": [
        "<a href=\"https://colab.research.google.com/github/ASO1801038/AI_tech2020/blob/master/2020AI020A_square.ipynb\" target=\"_parent\"><img src=\"https://colab.research.google.com/assets/colab-badge.svg\" alt=\"Open In Colab\"/></a>"
      ]
    },
    {
      "cell_type": "code",
      "metadata": {
        "id": "BbmbYgrj5lup"
      },
      "source": [
        "import pandas as pd\n",
        "from sklearn.model_selection import train_test_split\n",
        "from sklearn.ensemble import RandomForestClassifier\n",
        "from sklearn.metrics import accuracy_score\n",
        "from sklearn.metrics import classification_report"
      ],
      "execution_count": null,
      "outputs": []
    },
    {
      "cell_type": "code",
      "metadata": {
        "id": "WKV3sTDL50q7",
        "outputId": "e57f9fa0-c6e6-47e8-b6bd-3b4849fbf26f",
        "colab": {
          "base_uri": "https://localhost:8080/",
          "height": 336
        }
      },
      "source": [
        "from urllib.request import urlretrieve\n",
        "url = \"https://raw.githubusercontent.com/masatokg/square_data/master/data.csv\"\n",
        "savepath = \"data.csv\"\n",
        "urlretrieve(url,savepath)\n",
        "\n",
        "square = pd.read_csv(savepath,sep = \",\", encoding = \"utf-8\")\n",
        "print(square.head())\n",
        "square.head()\n",
        "\n",
        "y = square[\"shape\"]\n",
        "x = square.drop(\"shape\", axis = 1)\n",
        "x.head()"
      ],
      "execution_count": null,
      "outputs": [
        {
          "output_type": "stream",
          "text": [
            "   a_length  b_length  c_length  ...  cd_Parallel  ab_right_angle   shape\n",
            "0        10        10        10  ...            1               1  square\n",
            "1        11        11        11  ...            1               1  square\n",
            "2        12        12        12  ...            1               1  square\n",
            "3        13        13        13  ...            1               1  square\n",
            "4        14        14        14  ...            1               1  square\n",
            "\n",
            "[5 rows x 8 columns]\n"
          ],
          "name": "stdout"
        },
        {
          "output_type": "execute_result",
          "data": {
            "text/html": [
              "<div>\n",
              "<style scoped>\n",
              "    .dataframe tbody tr th:only-of-type {\n",
              "        vertical-align: middle;\n",
              "    }\n",
              "\n",
              "    .dataframe tbody tr th {\n",
              "        vertical-align: top;\n",
              "    }\n",
              "\n",
              "    .dataframe thead th {\n",
              "        text-align: right;\n",
              "    }\n",
              "</style>\n",
              "<table border=\"1\" class=\"dataframe\">\n",
              "  <thead>\n",
              "    <tr style=\"text-align: right;\">\n",
              "      <th></th>\n",
              "      <th>a_length</th>\n",
              "      <th>b_length</th>\n",
              "      <th>c_length</th>\n",
              "      <th>d_length</th>\n",
              "      <th>ab_Parallel</th>\n",
              "      <th>cd_Parallel</th>\n",
              "      <th>ab_right_angle</th>\n",
              "    </tr>\n",
              "  </thead>\n",
              "  <tbody>\n",
              "    <tr>\n",
              "      <th>0</th>\n",
              "      <td>10</td>\n",
              "      <td>10</td>\n",
              "      <td>10</td>\n",
              "      <td>10</td>\n",
              "      <td>1</td>\n",
              "      <td>1</td>\n",
              "      <td>1</td>\n",
              "    </tr>\n",
              "    <tr>\n",
              "      <th>1</th>\n",
              "      <td>11</td>\n",
              "      <td>11</td>\n",
              "      <td>11</td>\n",
              "      <td>11</td>\n",
              "      <td>1</td>\n",
              "      <td>1</td>\n",
              "      <td>1</td>\n",
              "    </tr>\n",
              "    <tr>\n",
              "      <th>2</th>\n",
              "      <td>12</td>\n",
              "      <td>12</td>\n",
              "      <td>12</td>\n",
              "      <td>12</td>\n",
              "      <td>1</td>\n",
              "      <td>1</td>\n",
              "      <td>1</td>\n",
              "    </tr>\n",
              "    <tr>\n",
              "      <th>3</th>\n",
              "      <td>13</td>\n",
              "      <td>13</td>\n",
              "      <td>13</td>\n",
              "      <td>13</td>\n",
              "      <td>1</td>\n",
              "      <td>1</td>\n",
              "      <td>1</td>\n",
              "    </tr>\n",
              "    <tr>\n",
              "      <th>4</th>\n",
              "      <td>14</td>\n",
              "      <td>14</td>\n",
              "      <td>14</td>\n",
              "      <td>14</td>\n",
              "      <td>1</td>\n",
              "      <td>1</td>\n",
              "      <td>1</td>\n",
              "    </tr>\n",
              "  </tbody>\n",
              "</table>\n",
              "</div>"
            ],
            "text/plain": [
              "   a_length  b_length  c_length  ...  ab_Parallel  cd_Parallel  ab_right_angle\n",
              "0        10        10        10  ...            1            1               1\n",
              "1        11        11        11  ...            1            1               1\n",
              "2        12        12        12  ...            1            1               1\n",
              "3        13        13        13  ...            1            1               1\n",
              "4        14        14        14  ...            1            1               1\n",
              "\n",
              "[5 rows x 7 columns]"
            ]
          },
          "metadata": {
            "tags": []
          },
          "execution_count": 24
        }
      ]
    },
    {
      "cell_type": "code",
      "metadata": {
        "id": "XMjOdn3me2FS",
        "outputId": "27cf5a0f-fd3f-46d6-f937-80ad8bf80341",
        "colab": {
          "base_uri": "https://localhost:8080/",
          "height": 158
        }
      },
      "source": [
        "x_train, x_test, y_train, y_test = train_test_split(x, y, test_size=0.2)\n",
        "model = RandomForestClassifier()\n",
        "model.fit(x_train, y_train)"
      ],
      "execution_count": null,
      "outputs": [
        {
          "output_type": "execute_result",
          "data": {
            "text/plain": [
              "RandomForestClassifier(bootstrap=True, ccp_alpha=0.0, class_weight=None,\n",
              "                       criterion='gini', max_depth=None, max_features='auto',\n",
              "                       max_leaf_nodes=None, max_samples=None,\n",
              "                       min_impurity_decrease=0.0, min_impurity_split=None,\n",
              "                       min_samples_leaf=1, min_samples_split=2,\n",
              "                       min_weight_fraction_leaf=0.0, n_estimators=100,\n",
              "                       n_jobs=None, oob_score=False, random_state=None,\n",
              "                       verbose=0, warm_start=False)"
            ]
          },
          "metadata": {
            "tags": []
          },
          "execution_count": 25
        }
      ]
    },
    {
      "cell_type": "code",
      "metadata": {
        "id": "bi4Ai8M5e4sJ",
        "outputId": "e11d2d23-becf-4f54-b450-2d5acf453d21",
        "colab": {
          "base_uri": "https://localhost:8080/",
          "height": 228
        }
      },
      "source": [
        "y_pred = model.predict(x_test)\n",
        "print(classification_report(y_test, y_pred))\n",
        "\n",
        "correct  = accuracy_score(y_test, y_pred) * 100\n",
        "print(\"正解率 = \", correct, \"%\")"
      ],
      "execution_count": null,
      "outputs": [
        {
          "output_type": "stream",
          "text": [
            "              precision    recall  f1-score   support\n",
            "\n",
            "   rectangle       1.00      1.00      1.00        28\n",
            "     rhombus       1.00      1.00      1.00        16\n",
            "      square       1.00      1.00      1.00        18\n",
            "   trapezoid       1.00      1.00      1.00        18\n",
            "\n",
            "    accuracy                           1.00        80\n",
            "   macro avg       1.00      1.00      1.00        80\n",
            "weighted avg       1.00      1.00      1.00        80\n",
            "\n",
            "正解率 =  100.0 %\n"
          ],
          "name": "stdout"
        }
      ]
    }
  ]
}