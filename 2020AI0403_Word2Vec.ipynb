{
  "nbformat": 4,
  "nbformat_minor": 0,
  "metadata": {
    "colab": {
      "name": "2020AI0403-Word2Vec.ipynb",
      "provenance": [],
      "collapsed_sections": [],
      "authorship_tag": "ABX9TyNzf7x8Su4g7jzHBHwe6rd7",
      "include_colab_link": true
    },
    "kernelspec": {
      "name": "python3",
      "display_name": "Python 3"
    }
  },
  "cells": [
    {
      "cell_type": "markdown",
      "metadata": {
        "id": "view-in-github",
        "colab_type": "text"
      },
      "source": [
        "<a href=\"https://colab.research.google.com/github/ASO1801038/AI_teach2020/blob/master/2020AI0403_Word2Vec.ipynb\" target=\"_parent\"><img src=\"https://colab.research.google.com/assets/colab-badge.svg\" alt=\"Open In Colab\"/></a>"
      ]
    },
    {
      "cell_type": "code",
      "metadata": {
        "colab": {
          "base_uri": "https://localhost:8080/"
        },
        "id": "ndNqIVEHTs3g",
        "outputId": "2d82c334-c056-42b4-ba49-870657dc6f4a"
      },
      "source": [
        "#単語の意味判定\r\n",
        "import urllib.request as req\r\n",
        "url = \"https://www.dropbox.com/s/8kv39qpvg965i06/word2vec.gensim.zip?dl=1\"\r\n",
        "save_file = \"word2vec.gensim.model.zip\"\r\n",
        "req.urlretrieve( url,save_file )\r\n",
        "\r\n",
        "!unzip -o -q \"word2vec.gensim.model.zip\"\r\n",
        "print(\"解凍\")"
      ],
      "execution_count": null,
      "outputs": [
        {
          "output_type": "stream",
          "text": [
            "解凍\n"
          ],
          "name": "stdout"
        }
      ]
    },
    {
      "cell_type": "code",
      "metadata": {
        "id": "XC9eQTVCV4Ep"
      },
      "source": [
        "#コーパスモデルをプログラムに読込\r\n",
        "from gensim.models import Word2Vec\r\n",
        "model = Word2Vec. load(\"/content/word2vec.gensim.model\")"
      ],
      "execution_count": null,
      "outputs": []
    },
    {
      "cell_type": "code",
      "metadata": {
        "colab": {
          "base_uri": "https://localhost:8080/"
        },
        "id": "iXaPwxoPWblg",
        "outputId": "87b4c6c1-b54c-46ff-92c4-5fc9fa5950bc"
      },
      "source": [
        "#類義語推論\r\n",
        "results = model.wv.most_similar(positive = [\"業務\"], topn=5)\r\n",
        "for result in results:\r\n",
        "  print(result)"
      ],
      "execution_count": null,
      "outputs": [
        {
          "output_type": "stream",
          "text": [
            "('事務', 0.8289206027984619)\n",
            "('民間企業', 0.7522704601287842)\n",
            "('郵便事業', 0.7504326105117798)\n",
            "('業務委託', 0.7485122680664062)\n",
            "('部署', 0.7473441362380981)\n"
          ],
          "name": "stdout"
        }
      ]
    },
    {
      "cell_type": "code",
      "metadata": {
        "colab": {
          "base_uri": "https://localhost:8080/"
        },
        "id": "oHmejW7IYtWy",
        "outputId": "5ccf5b22-e015-4486-83a5-2dfabb061411"
      },
      "source": [
        "#ポジティブなワードとネガティブなワードを組み合わせる\r\n",
        "print(\"-----\")\r\n",
        "print(\"国王\")\r\n",
        "results = model.wv.most_similar(\"国王\")\r\n",
        "for result in results:\r\n",
        "  print(result)\r\n",
        "\r\n",
        "print(\"-----\")\r\n",
        "print(\"王\")\r\n",
        "results = model.wv.most_similar(\"王\")\r\n",
        "for result in results:\r\n",
        "  print(result)\r\n",
        "\r\n",
        "print(\"-----\")\r\n",
        "print(\"王様\")\r\n",
        "results = model.wv.most_similar(\"王様\")\r\n",
        "for result in results:\r\n",
        "  print(result)\r\n",
        "\r\n",
        "print(\"-----\")\r\n",
        "print(\"王様+女性\")\r\n",
        "results = model.wv.most_similar(positive = [\"王様\",\"女性\"],negative = [\"男性\"])\r\n",
        "for result in results:\r\n",
        "  print(result)"
      ],
      "execution_count": null,
      "outputs": [
        {
          "output_type": "stream",
          "text": [
            "-----\n",
            "国王\n",
            "('ツァーリ', 0.9053068161010742)\n",
            "('スルタン', 0.8805959820747375)\n",
            "('皇帝', 0.874972939491272)\n",
            "('スルターン', 0.8520403504371643)\n",
            "('女帝', 0.8492650389671326)\n",
            "('ジェームズ2世', 0.837557315826416)\n",
            "('王太子', 0.8365861177444458)\n",
            "('摂政', 0.8361721634864807)\n",
            "('イギリス国王', 0.8348546028137207)\n",
            "('君主', 0.8336648941040039)\n",
            "-----\n",
            "王\n",
            "('大王', 0.855927586555481)\n",
            "('皇帝', 0.8524040579795837)\n",
            "('先王', 0.8425959348678589)\n",
            "('君主', 0.824544370174408)\n",
            "('ローマ皇帝', 0.8206972479820251)\n",
            "('西ローマ皇帝', 0.8157353401184082)\n",
            "('王シ', 0.8076152205467224)\n",
            "('ファラオ', 0.8029801845550537)\n",
            "('女帝', 0.8029454350471497)\n",
            "('聖王', 0.7952451705932617)\n",
            "-----\n",
            "王様\n",
            "('野獣', 0.8659248352050781)\n",
            "('お姫様', 0.8607541918754578)\n",
            "('魔女', 0.8333204388618469)\n",
            "('花嫁', 0.830689013004303)\n",
            "('乙女', 0.8267987966537476)\n",
            "('キューピッド', 0.8178128004074097)\n",
            "('狩人', 0.8152097463607788)\n",
            "('父さん', 0.8097778558731079)\n",
            "('パパ', 0.8046603798866272)\n",
            "('帽子屋', 0.8032904863357544)\n",
            "-----\n",
            "王様+女性\n",
            "('お姫様', 0.8531287312507629)\n",
            "('花嫁', 0.839175820350647)\n",
            "('野獣', 0.8315544128417969)\n",
            "('魔女', 0.8298223614692688)\n",
            "('乙女', 0.8235582709312439)\n",
            "('愛する人', 0.800349235534668)\n",
            "('天国', 0.7905834913253784)\n",
            "('悪魔', 0.7898154854774475)\n",
            "('キューピッド', 0.7896510362625122)\n",
            "('魔法使い', 0.788610577583313)\n"
          ],
          "name": "stdout"
        }
      ]
    }
  ]
}