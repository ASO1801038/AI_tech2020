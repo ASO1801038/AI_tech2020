{
  "nbformat": 4,
  "nbformat_minor": 0,
  "metadata": {
    "colab": {
      "name": "2020AI0301-OpenCV.ipynb",
      "provenance": [],
      "collapsed_sections": [],
      "authorship_tag": "ABX9TyNa/zcIbd6mrx9QuKYaMKe9",
      "include_colab_link": true
    },
    "kernelspec": {
      "name": "python3",
      "display_name": "Python 3"
    }
  },
  "cells": [
    {
      "cell_type": "markdown",
      "metadata": {
        "id": "view-in-github",
        "colab_type": "text"
      },
      "source": [
        "<a href=\"https://colab.research.google.com/github/ASO1801038/AI_teach2020/blob/master/2020AI0301_OpenCV.ipynb\" target=\"_parent\"><img src=\"https://colab.research.google.com/assets/colab-badge.svg\" alt=\"Open In Colab\"/></a>"
      ]
    },
    {
      "cell_type": "code",
      "metadata": {
        "id": "bcFOT87V64GE"
      },
      "source": [
        "\n",
        "# 画像DL\n",
        "import urllib.request as req\n",
        "url = \"https://raw.githubusercontent.com/masatokg/book-mlearn-gyomu/master/src/ch3/cv2io/test.jpg\"\n",
        "req.urlretrieve(url, \"test.png\")\n",
        "\n",
        "# OpenCVで読込\n",
        "import cv2\n",
        "img = cv2.imread(\"test.png\")\n",
        "print(img)\n",
        "\n",
        "ng_img = cv2.imread(\"存在しないファイル\")\n",
        "print(\"存在しないファイル\")"
      ],
      "execution_count": null,
      "outputs": []
    },
    {
      "cell_type": "code",
      "metadata": {
        "id": "ne61bcFX--tv"
      },
      "source": [
        "%matplotlib inline\n",
        "import matplotlib.pyplot as plt\n",
        "plt.imshow(img)\n",
        "plt.show()\n",
        "import cv2\n",
        "img = cv2.imread(\"test.jpg\")\n",
        "plt.imshow(cv2.cvtColor(img, cv2.COLOR_BGR2RGB))"
      ],
      "execution_count": null,
      "outputs": []
    },
    {
      "cell_type": "code",
      "metadata": {
        "id": "FHUiT-NGCTJQ"
      },
      "source": [
        "out_png = \"out_png\"\n",
        "cv2.imwrite(out_png,img)"
      ],
      "execution_count": null,
      "outputs": []
    },
    {
      "cell_type": "code",
      "metadata": {
        "id": "Nn2oy_u_Dwbs"
      },
      "source": [
        "import matplotlib.pyplot as plt\n",
        "import cv2\n",
        "\n",
        "# 読込\n",
        "img = cv2.imread(\"test.jpg\")\n",
        "# リサイズ\n",
        "im2 = cv2.resize(img, (600, 300))\n",
        "# リサイズ画像を保存\n",
        "cv2.imwrite(\"out-resize.png\", im2)\n",
        "\n",
        "# 表示\n",
        "plt.imshow(cv2.cvtColor(im2, cv2.COLOR_BGR2RGB))\n",
        "plt.show()\n"
      ],
      "execution_count": null,
      "outputs": []
    },
    {
      "cell_type": "code",
      "metadata": {
        "id": "Xbn8sp9czNug"
      },
      "source": [
        ""
      ],
      "execution_count": null,
      "outputs": []
    }
  ]
}