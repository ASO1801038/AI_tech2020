{
  "nbformat": 4,
  "nbformat_minor": 0,
  "metadata": {
    "colab": {
      "name": "2020AI0302-detect-mosaic.ipynb",
      "provenance": [],
      "collapsed_sections": [],
      "authorship_tag": "ABX9TyOTwa8ZWYpWyiVRep3WwWHk",
      "include_colab_link": true
    },
    "kernelspec": {
      "name": "python3",
      "display_name": "Python 3"
    }
  },
  "cells": [
    {
      "cell_type": "markdown",
      "metadata": {
        "id": "view-in-github",
        "colab_type": "text"
      },
      "source": [
        "<a href=\"https://colab.research.google.com/github/ASO1801038/AI_teach2020/blob/master/2020AI0302_detect_mosaic.ipynb\" target=\"_parent\"><img src=\"https://colab.research.google.com/assets/colab-badge.svg\" alt=\"Open In Colab\"/></a>"
      ]
    },
    {
      "cell_type": "code",
      "metadata": {
        "id": "v7FIlgQRz3QT"
      },
      "source": [
        "import matplotlib.pyplot as plt\n",
        "import cv2\n",
        "import urllib.request as req\n",
        "\n",
        "#カスケードファイルを指定して検出器を作成\n",
        "url = \"https://raw.githubusercontent.com/opencv/opencv/master/data/haarcascades/haarcascade_frontalface_alt.xml\"\n",
        "savefile = \"giri.png\"\n",
        "req.urlretrieve(url,savefile)\n",
        "\n",
        "#画像の読み込んでグレイスケールに変換\n",
        "img = cv2.imread(savefile)\n",
        "img_gray = cv2.cvtColor(img, cv2.COLOR_BGR2GRAY)\n",
        "#画像プロット\n",
        "plt.imshow(cv2.cvtColor(img_gray, cv2.COLOR_BGR2RGB))\n",
        "plt.show()\n",
        "\n",
        "#顔認識実行\n",
        "face_list = cascade.detectMultiScale(img_gray, minSize=(150,150))\n",
        "#結果を確認\n",
        "if len(face_list) == 0:\n",
        "    print(\"失敗\")\n",
        "    quit()\n",
        "#認識した部分に印をつける\n",
        "for (x,y,w,h) in face_list:\n",
        "    print(\"顔の座標=\", x, y, w, h)\n",
        "    red = (0, 0, 255)\n",
        "    cv2.rectangle(img, (x, y), (x+w, y+h), red, thickness=20)\n",
        "\n",
        "#出力\n",
        "plt.imshow(cv2.cvtColor(img, cv2.COLOR_BGR2RGB))\n",
        "plt.show()\n",
        "\n",
        "\n"
      ],
      "execution_count": null,
      "outputs": []
    },
    {
      "cell_type": "code",
      "metadata": {
        "id": "4hSTnqRZjkHM"
      },
      "source": [
        "import matplotlib.pyplot as plt\n",
        "import cv2\n",
        "import urllib.request as req\n",
        "\n",
        "url = \"https://raw.githubusercontent.com/opencv/opencv/master/data/haarcascades/haarcascade_frontalface_alt.xml\"\n",
        "cascade_file = \"cascade_file.xml\"\n",
        "req.urlretrieve(url,cascade_file)\n",
        "cascade = cv2.CascadeClassifier(cascade_file)\n",
        "\n",
        "#実行\n",
        "face_list = cascade.detectMultiScale(img_gray, minSize=(150,150))\n",
        "#結果確認\n",
        "if len(face_list) == 0:\n",
        "    print(\"検出数ゼロでした\")\n",
        "else:\n",
        "    print(\"検出数:\",len(face_list),\"件\")\n",
        "\n",
        "#認識部分にチェック\n",
        "for (x,y,w,h) in face_list:\n",
        "    print(\"顔の座標=x=\",x,\" y=\"y,\" 横w=\"w,\" 縦h=\"h)\n",
        "    #矩形の色定義\n",
        "    red = (0, 0, 255)\n",
        "    #img画像に矩形追加\n",
        "    cv2.rectangle(img, (x, y), (x+w, y+h), red, thickness=20)\n",
        "\n",
        "#出力\n",
        "cv2.imwrite(\"face-detect.png\", img)\n",
        "plt.imshow(cv2.cvtColor(img, cv2.COLOR_BGR2RGB))\n",
        "plt.show()\n"
      ],
      "execution_count": null,
      "outputs": []
    },
    {
      "cell_type": "code",
      "metadata": {
        "id": "hpawcynesduO"
      },
      "source": [
        "import cv2\n",
        "\n",
        "def mosaic(img, rect, size):\n",
        "    #モザイクをかける領域\n",
        "    (x1, y1, x2, y2) = rect\n",
        "    w = x2 - x1\n",
        "    h = y2 - y1\n",
        "    i_rect = img[y1:y2, x1:x2]\n",
        "    #モザイク処理のため縮小→拡大\n",
        "    i_small = cv2.resize(i_rect, ( size, size))\n",
        "    i_mos = cv2.resize(i_small, (w, h), interpolation=cv2.INTER_AREA)\n",
        "    #モザイク画像\n",
        "    img2 = img.copy()\n",
        "    img2[y1:y2, x1:x2] = i_mos\n",
        "    return img2\n",
        "\n"
      ],
      "execution_count": null,
      "outputs": []
    },
    {
      "cell_type": "code",
      "metadata": {
        "id": "Qdrnbd39U47I"
      },
      "source": [
        "import matplotlib.pyplot as plt\n",
        "import cv2\n",
        "from mosaic import mosaic as mosaic\n",
        "import urllib.request as req\n",
        "\n",
        "#画像を読み込んでモザイク\n",
        "url = \"https://github.com/masatokg/book-mlearn-gyomu/raw/master/src/ch3/face/cat.jpg\"\n",
        "cat_file = cv2.imread(cat_file)\n",
        "mos = mosaic(img, (50, 50, 450, 450), 10)\n",
        "\n",
        "#モザイク画像出力\n",
        "cv2.imwrite(\"cat-mosaic.png\", mos)\n",
        "plt.imshow(cv2.cvtColor(mos, cv2.COLOR_BGR2RGB))\n",
        "plt.show()"
      ],
      "execution_count": null,
      "outputs": []
    },
    {
      "cell_type": "code",
      "metadata": {
        "id": "9WTfVxWiWPlI"
      },
      "source": [
        "#カスケードファイル読込DL\n",
        "cascade = cv2.CascadeClassifier(cascade_file)\n",
        "url = \"https://raw.githubusercontent.com/masatokg/book-mlearn-gyomu/master/src/ch3/face/family.jpg\"\n",
        "family_file = \"family.png\"\n",
        "req.urlretrieve(url,family_file)\n",
        "\n",
        "#画像の読み込んでグレイスケール変換\n",
        "img = cv2.imread(family_file)\n",
        "img_family_gray = cv2.cvtColor(img_family, cv2.COLOR_BGR2GRAY)\n",
        "#モノクロ表示\n",
        "plt.imshow(cv2.cvtColor(img_family_gray, cv2.COLOR_BGR2RGB))\n",
        "plt.show()\n",
        "\n",
        "#顔検出\n",
        "face_list = cascade.detectMultiScale(img_family_gray, minSize=(150,150))\n",
        "if len(face_list) == 0:print(\"顔が見つかりません\")\n",
        "else:print(len(face_list),\"件見つかりました\")\n",
        "#認識した部分の画像にモザイク\n",
        "for (x,y,w,h) in face_list:\n",
        "    img_family = mosaic(img_family, (x, y, x+w, y+h), 10)\n",
        "\n",
        "#出力\n",
        "cv2.imwrite(\"family-mosaic.png\", img_family)\n",
        "plt.imshow(cv2.cvtColor(img_family, cv2.COLOR_BGR2RGB))\n",
        "plt.show()\n"
      ],
      "execution_count": null,
      "outputs": []
    }
  ]
}