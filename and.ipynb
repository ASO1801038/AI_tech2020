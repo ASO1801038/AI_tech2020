{
  "nbformat": 4,
  "nbformat_minor": 0,
  "metadata": {
    "colab": {
      "name": "and.ipynb",
      "provenance": [],
      "authorship_tag": "ABX9TyOg5ldBCmZy3/zb96qOcR7A",
      "include_colab_link": true
    },
    "kernelspec": {
      "name": "python3",
      "display_name": "Python 3"
    }
  },
  "cells": [
    {
      "cell_type": "markdown",
      "metadata": {
        "id": "view-in-github",
        "colab_type": "text"
      },
      "source": [
        "<a href=\"https://colab.research.google.com/github/ASO1801038/AI_tech2020/blob/master/and.ipynb\" target=\"_parent\"><img src=\"https://colab.research.google.com/assets/colab-badge.svg\" alt=\"Open In Colab\"/></a>"
      ]
    },
    {
      "cell_type": "markdown",
      "metadata": {
        "id": "Rgv_hPAKqdMI"
      },
      "source": [
        "###AND演算をモデルに学ばせる（LinearSVC）"
      ]
    },
    {
      "cell_type": "markdown",
      "metadata": {
        "id": "5tvy-avqqQKU"
      },
      "source": [
        ""
      ]
    },
    {
      "cell_type": "code",
      "metadata": {
        "id": "IlwZlM2ZqfsR"
      },
      "source": [
        "#scikit-learnをインポート\n",
        "from sklearn.svm import LinearSVC #線形SVCのオブジェクト\n",
        "from sklearn.metrics import accuracy_score #結果評価のためのオブジェクト"
      ],
      "execution_count": 13,
      "outputs": []
    },
    {
      "cell_type": "markdown",
      "metadata": {
        "id": "eGla9XtKrWv8"
      },
      "source": [
        "###学習のためのデータを用意"
      ]
    },
    {
      "cell_type": "code",
      "metadata": {
        "id": "QCo4RUSCraxg"
      },
      "source": [
        "#入力値をあらわすデータ\n",
        "learn_data = [ [0,0],[1,0],[0,1],[1,1] ]\n",
        "#X、YのANDの結果\n",
        "learn_label = [ 0,0,0,1 ]\n"
      ],
      "execution_count": 14,
      "outputs": []
    },
    {
      "cell_type": "markdown",
      "metadata": {
        "id": "ecOBPVMItBhG"
      },
      "source": [
        "###アルゴリズムのインスタンス生成"
      ]
    },
    {
      "cell_type": "code",
      "metadata": {
        "id": "5xFhsZxCtH0q"
      },
      "source": [
        "#線形SVCのインスタンス生成\n",
        "clf = LinearSVC()"
      ],
      "execution_count": 15,
      "outputs": []
    },
    {
      "cell_type": "markdown",
      "metadata": {
        "id": "Y4SmjzpVtSSC"
      },
      "source": [
        "###モデルに学習させる\n",
        "\n"
      ]
    },
    {
      "cell_type": "code",
      "metadata": {
        "id": "GNdN3lzRtWP7",
        "outputId": "12186d65-f280-40f3-d7ca-598810edd0ca",
        "colab": {
          "base_uri": "https://localhost:8080/",
          "height": 89
        }
      },
      "source": [
        "clf.fit (learn_data,learn_label)"
      ],
      "execution_count": 16,
      "outputs": [
        {
          "output_type": "execute_result",
          "data": {
            "text/plain": [
              "LinearSVC(C=1.0, class_weight=None, dual=True, fit_intercept=True,\n",
              "          intercept_scaling=1, loss='squared_hinge', max_iter=1000,\n",
              "          multi_class='ovr', penalty='l2', random_state=None, tol=0.0001,\n",
              "          verbose=0)"
            ]
          },
          "metadata": {
            "tags": []
          },
          "execution_count": 16
        }
      ]
    },
    {
      "cell_type": "markdown",
      "metadata": {
        "id": "BTqvKCoEuRdi"
      },
      "source": [
        "###モデルが学習できたかテストデータで予測させる"
      ]
    },
    {
      "cell_type": "code",
      "metadata": {
        "id": "XwWESHMAuY6D",
        "outputId": "a3054eae-7901-4db8-c1be-7b8ceed412e3",
        "colab": {
          "base_uri": "https://localhost:8080/",
          "height": 71
        }
      },
      "source": [
        "#予測用テストデータを作る\n",
        "test_data = [ [0,0],[1,0],[0,1],[1,1] ]\n",
        "#モデルにテストデータを回答させる（予測させる）\n",
        "test_label = clf.predict( test_data )\n",
        "print(test_label)\n",
        "#結果の評価\n",
        "print(test_data,\"の予測結果\",test_label)\n",
        "#精度の表示\n",
        "print(\"正解率=\",accuracy_score([0,0,0,1],test_label))"
      ],
      "execution_count": 17,
      "outputs": [
        {
          "output_type": "stream",
          "text": [
            "[0 0 0 1]\n",
            "[[0, 0], [1, 0], [0, 1], [1, 1]] の予測結果 [0 0 0 1]\n",
            "正解率= 1.0\n"
          ],
          "name": "stdout"
        }
      ]
    },
    {
      "cell_type": "markdown",
      "metadata": {
        "id": "woG_y_6Dvv9K"
      },
      "source": [
        "###XOR演算実装"
      ]
    },
    {
      "cell_type": "code",
      "metadata": {
        "id": "GF5otDIHvxKL"
      },
      "source": [
        "#X,Yの順\n",
        "learn_data = [[0,0],[1,0],[0,1],[1,1]]\n",
        "#X xor Yの結果正解データ（学習ラベル）\n",
        "learn_label = [0,1,1,0]#xor用ラベルに変更"
      ],
      "execution_count": 18,
      "outputs": []
    },
    {
      "cell_type": "code",
      "metadata": {
        "id": "A31-MXPMxTXo",
        "outputId": "8c645223-6e7f-422b-e983-6899ceaedc72",
        "colab": {
          "base_uri": "https://localhost:8080/",
          "height": 89
        }
      },
      "source": [
        "#学習モデルのインスタンスを作る\n",
        "clf = LinearSVC()\n",
        "#学習させる\n",
        "clf.fit(learn_data,learn_label)"
      ],
      "execution_count": 19,
      "outputs": [
        {
          "output_type": "execute_result",
          "data": {
            "text/plain": [
              "LinearSVC(C=1.0, class_weight=None, dual=True, fit_intercept=True,\n",
              "          intercept_scaling=1, loss='squared_hinge', max_iter=1000,\n",
              "          multi_class='ovr', penalty='l2', random_state=None, tol=0.0001,\n",
              "          verbose=0)"
            ]
          },
          "metadata": {
            "tags": []
          },
          "execution_count": 19
        }
      ]
    },
    {
      "cell_type": "code",
      "metadata": {
        "id": "zeA0nNB5xsv0"
      },
      "source": [
        "#学習モデルに推論させる\n",
        "test_data = [ [0,0],[1,0],[0,1],[1,1] ]\n",
        "test_label = clf.predict(test_data)"
      ],
      "execution_count": 20,
      "outputs": []
    },
    {
      "cell_type": "code",
      "metadata": {
        "id": "eoQh0K62ykBw",
        "outputId": "df79a0ac-07b0-478e-caf6-1f530e472041",
        "colab": {
          "base_uri": "https://localhost:8080/",
          "height": 53
        }
      },
      "source": [
        "#結果検証\n",
        "print(test_data, \"の検証結果:\" ,test_label)\n",
        "print(\"正解率 =\" ,accuracy_score([0,1,1,0], test_label)) "
      ],
      "execution_count": 21,
      "outputs": [
        {
          "output_type": "stream",
          "text": [
            "[[0, 0], [1, 0], [0, 1], [1, 1]] の検証結果: [0 1 1 1]\n",
            "正解率 = 0.75\n"
          ],
          "name": "stdout"
        }
      ]
    },
    {
      "cell_type": "markdown",
      "metadata": {
        "id": "Iw8YYbuUXOih"
      },
      "source": [
        "##K近傍法でxor演算実装"
      ]
    },
    {
      "cell_type": "code",
      "metadata": {
        "id": "ZoKrjffAXPv-"
      },
      "source": [
        "#K近傍法アルゴのクラスをインポート\n",
        "from sklearn.neighbors import KNeighborsClassifier\n",
        "from sklearn.metrics import accuracy_score"
      ],
      "execution_count": 22,
      "outputs": []
    },
    {
      "cell_type": "code",
      "metadata": {
        "id": "IRljtmnvaApR"
      },
      "source": [
        "#学習モデルの変数clfを近傍で上書き\n",
        "clf = KNeighborsClassifier(n_neighbors=1)"
      ],
      "execution_count": 23,
      "outputs": []
    },
    {
      "cell_type": "code",
      "metadata": {
        "id": "pnWPum25akt1",
        "outputId": "f9e73e5c-c178-4e04-99a5-b183ac9fe6ba",
        "colab": {
          "base_uri": "https://localhost:8080/",
          "height": 71
        }
      },
      "source": [
        "#学習用入力データ(learn_data)と欠課用正解データ(learn_label)を使って学習\n",
        "clf.fit(learn_data,learn_label)"
      ],
      "execution_count": 24,
      "outputs": [
        {
          "output_type": "execute_result",
          "data": {
            "text/plain": [
              "KNeighborsClassifier(algorithm='auto', leaf_size=30, metric='minkowski',\n",
              "                     metric_params=None, n_jobs=None, n_neighbors=1, p=2,\n",
              "                     weights='uniform')"
            ]
          },
          "metadata": {
            "tags": []
          },
          "execution_count": 24
        }
      ]
    },
    {
      "cell_type": "markdown",
      "metadata": {
        "id": "EpevP4SgbYE-"
      },
      "source": [
        "###テスト検証データで推論"
      ]
    },
    {
      "cell_type": "code",
      "metadata": {
        "id": "Q7_cl2WHbd9-",
        "outputId": "3b2282dd-5c5e-4c81-f9af-8d3ebcf7c9fc",
        "colab": {
          "base_uri": "https://localhost:8080/",
          "height": 53
        }
      },
      "source": [
        "#検証データ(test_data)と正解データ([0,1,1,0])\n",
        "test_label = clf.predict(test_data)\n",
        "#推論結果の評価\n",
        "print(test_data,\"の予測結果：\",test_label)\n",
        "print(\"正解率：\",accuracy_score([0,1,1,0], test_label))"
      ],
      "execution_count": 25,
      "outputs": [
        {
          "output_type": "stream",
          "text": [
            "[[0, 0], [1, 0], [0, 1], [1, 1]] の予測結果： [0 1 1 0]\n",
            "正解率： 1.0\n"
          ],
          "name": "stdout"
        }
      ]
    },
    {
      "cell_type": "code",
      "metadata": {
        "id": "mIDin8ZXcECH"
      },
      "source": [
        ""
      ],
      "execution_count": 25,
      "outputs": []
    }
  ]
}