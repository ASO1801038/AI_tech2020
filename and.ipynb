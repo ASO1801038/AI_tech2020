{
  "nbformat": 4,
  "nbformat_minor": 0,
  "metadata": {
    "colab": {
      "name": "and.ipynb",
      "provenance": [],
      "authorship_tag": "ABX9TyPAtSMYIdIaZYza84dZYLUD",
      "include_colab_link": true
    },
    "kernelspec": {
      "name": "python3",
      "display_name": "Python 3"
    }
  },
  "cells": [
    {
      "cell_type": "markdown",
      "metadata": {
        "id": "view-in-github",
        "colab_type": "text"
      },
      "source": [
        "<a href=\"https://colab.research.google.com/github/ASO1801038/AI_tech2020/blob/master/and.ipynb\" target=\"_parent\"><img src=\"https://colab.research.google.com/assets/colab-badge.svg\" alt=\"Open In Colab\"/></a>"
      ]
    },
    {
      "cell_type": "markdown",
      "metadata": {
        "id": "Rgv_hPAKqdMI",
        "colab_type": "text"
      },
      "source": [
        "###AND演算をモデルに学ばせる（LinearSVC）"
      ]
    },
    {
      "cell_type": "markdown",
      "metadata": {
        "id": "5tvy-avqqQKU",
        "colab_type": "text"
      },
      "source": [
        ""
      ]
    },
    {
      "cell_type": "code",
      "metadata": {
        "id": "IlwZlM2ZqfsR",
        "colab_type": "code",
        "colab": {}
      },
      "source": [
        "#scikit-learnをインポート\n",
        "from sklearn.svm import LinearSVC #線形SVCのオブジェクト\n",
        "from sklearn.metrics import accuracy_score #結果評価のためのオブジェクト"
      ],
      "execution_count": 6,
      "outputs": []
    },
    {
      "cell_type": "markdown",
      "metadata": {
        "id": "eGla9XtKrWv8",
        "colab_type": "text"
      },
      "source": [
        "###学習のためのデータを用意"
      ]
    },
    {
      "cell_type": "code",
      "metadata": {
        "id": "QCo4RUSCraxg",
        "colab_type": "code",
        "colab": {}
      },
      "source": [
        "#入力値をあらわすデータ\n",
        "learn_data = [ [0,0],[1,0],[0,1],[1,1] ]\n",
        "#X、YのANDの結果\n",
        "learn_label = [ 0,0,0,1 ]\n"
      ],
      "execution_count": 8,
      "outputs": []
    },
    {
      "cell_type": "markdown",
      "metadata": {
        "id": "ecOBPVMItBhG",
        "colab_type": "text"
      },
      "source": [
        "###アルゴリズムのインスタンス生成"
      ]
    },
    {
      "cell_type": "code",
      "metadata": {
        "id": "5xFhsZxCtH0q",
        "colab_type": "code",
        "colab": {}
      },
      "source": [
        "#線形SVCのインスタンス生成\n",
        "clf = LinearSVC()"
      ],
      "execution_count": 10,
      "outputs": []
    },
    {
      "cell_type": "markdown",
      "metadata": {
        "id": "Y4SmjzpVtSSC",
        "colab_type": "text"
      },
      "source": [
        "###モデルに学習させる\n",
        "\n"
      ]
    },
    {
      "cell_type": "code",
      "metadata": {
        "id": "GNdN3lzRtWP7",
        "colab_type": "code",
        "colab": {
          "base_uri": "https://localhost:8080/",
          "height": 89
        },
        "outputId": "6d69b7a7-d5a2-4775-e9a5-1015d84dc9ce"
      },
      "source": [
        "clf.fit (learn_data,learn_label)"
      ],
      "execution_count": 11,
      "outputs": [
        {
          "output_type": "execute_result",
          "data": {
            "text/plain": [
              "LinearSVC(C=1.0, class_weight=None, dual=True, fit_intercept=True,\n",
              "          intercept_scaling=1, loss='squared_hinge', max_iter=1000,\n",
              "          multi_class='ovr', penalty='l2', random_state=None, tol=0.0001,\n",
              "          verbose=0)"
            ]
          },
          "metadata": {
            "tags": []
          },
          "execution_count": 11
        }
      ]
    },
    {
      "cell_type": "markdown",
      "metadata": {
        "id": "BTqvKCoEuRdi",
        "colab_type": "text"
      },
      "source": [
        "###モデルが学習できたかテストデータで予測させる"
      ]
    },
    {
      "cell_type": "code",
      "metadata": {
        "id": "XwWESHMAuY6D",
        "colab_type": "code",
        "colab": {
          "base_uri": "https://localhost:8080/",
          "height": 71
        },
        "outputId": "72ce8528-49e8-4a95-d3bf-c7d55132c06b"
      },
      "source": [
        "#予測用テストデータを作る\n",
        "test_data = [ [0,0],[1,0],[0,1],[1,1] ]\n",
        "#モデルにテストデータを回答させる（予測させる）\n",
        "test_label = clf.predict( test_data )\n",
        "print(test_label)\n",
        "#結果の評価\n",
        "print(test_data,\"の予測結果\",test_label)\n",
        "#精度の表示\n",
        "print(\"正解率=\",accuracy_score([0,0,0,1],test_label))"
      ],
      "execution_count": 18,
      "outputs": [
        {
          "output_type": "stream",
          "text": [
            "[0 0 0 1]\n",
            "[[0, 0], [1, 0], [0, 1], [1, 1]] の予測結果 [0 0 0 1]\n",
            "正解率= 1.0\n"
          ],
          "name": "stdout"
        }
      ]
    },
    {
      "cell_type": "code",
      "metadata": {
        "id": "sL4xWGDzwVlq",
        "colab_type": "code",
        "colab": {}
      },
      "source": [
        ""
      ],
      "execution_count": null,
      "outputs": []
    }
  ]
}