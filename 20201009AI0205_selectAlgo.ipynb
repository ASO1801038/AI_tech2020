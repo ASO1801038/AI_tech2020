{
  "nbformat": 4,
  "nbformat_minor": 0,
  "metadata": {
    "colab": {
      "name": "20201009AI0205-selectAlgo.ipynb",
      "provenance": [],
      "collapsed_sections": [],
      "authorship_tag": "ABX9TyM/NWkso9lRw8MJX+SS1Mry",
      "include_colab_link": true
    },
    "kernelspec": {
      "name": "python3",
      "display_name": "Python 3"
    }
  },
  "cells": [
    {
      "cell_type": "markdown",
      "metadata": {
        "id": "view-in-github",
        "colab_type": "text"
      },
      "source": [
        "<a href=\"https://colab.research.google.com/github/ASO1801038/AI_teach2020/blob/master/20201009AI0205_selectAlgo.ipynb\" target=\"_parent\"><img src=\"https://colab.research.google.com/assets/colab-badge.svg\" alt=\"Open In Colab\"/></a>"
      ]
    },
    {
      "cell_type": "code",
      "metadata": {
        "id": "F7CfKBmgi0Sb",
        "outputId": "fb41ddb0-712b-4864-85a4-e3d13aa92fcf",
        "colab": {
          "base_uri": "https://localhost:8080/",
          "height": 775
        }
      },
      "source": [
        "import pandas as pd\n",
        "from sklearn.model_selection import train_test_split\n",
        "from sklearn.metrics import accuracy_score\n",
        "from sklearn.utils import all_estimators\n",
        "import warnings\n",
        "\n",
        "# データ読み込み\n",
        "import urllib.request as req\n",
        "url = \"https://raw.githubusercontent.com/pandas-dev/pandas/master/pandas/tests/io/data/csv/iris.csv\"\n",
        "savefile = \"iris.csv\"\n",
        "req.urlretrieve(url,savefile)\n",
        "\n",
        "iris_data = pd.read_csv(\"iris.csv\", encoding=\"utf-8\")\n",
        "\n",
        "#ラベルと入力データに分離\n",
        "y = iris_data.loc[:,\"Name\"]\n",
        "x = iris_data.loc[:,[\"SepalLength\",\"SepalWidth\",\"PetalLength\",\"PetalWidth\"]]\n",
        "\n",
        "# 学習用とテスト用に分離\n",
        "x_train, x_test, y_train, y_test = train_test_split(x, y, test_size = 0.2, train_size = 0.8, shuffle = True)\n",
        "\n",
        "# classifierのアルゴ全取得\n",
        "allAlgorithms = all_estimators(type_filter=\"classifier\")\n",
        "warnings.simplefilter(\"error\")\n",
        "\n",
        "for(name, algorithm) in allAlgorithms :\n",
        "  try :\n",
        "    # 各アリゴのオブジェクト作成\n",
        "    clf = algorithm()\n",
        "\n",
        "    # 学習、評価する\n",
        "    clf.fit(x_train, y_train)\n",
        "    y_pred = clf.predict(x_test)\n",
        "    print(name,\"の正解率 = \" , accuracy_score(y_test, y_pred))\n",
        "  \n",
        "  #内容を表示\n",
        "  except Warning as w :\n",
        "    print(\"\\033[33m\"+\"Warning：\"+\"\\033[0m\", name, \":\", w.args)\n",
        "  except Exception as e :\n",
        "    print(\"\\033[31m\"+\"Error：\"+\"\\033[0m\", name, \":\", e.args)"
      ],
      "execution_count": null,
      "outputs": [
        {
          "output_type": "stream",
          "text": [
            "AdaBoostClassifier の正解率 =  1.0\n",
            "BaggingClassifier の正解率 =  1.0\n",
            "BernoulliNB の正解率 =  0.3\n",
            "\u001b[33mWarning：\u001b[0m CalibratedClassifierCV : ('Liblinear failed to converge, increase the number of iterations.',)\n",
            "CategoricalNB の正解率 =  0.9666666666666667\n",
            "\u001b[31mError：\u001b[0m ClassifierChain : (\"__init__() missing 1 required positional argument: 'base_estimator'\",)\n",
            "ComplementNB の正解率 =  0.7\n",
            "DecisionTreeClassifier の正解率 =  1.0\n",
            "\u001b[33mWarning：\u001b[0m DummyClassifier : ('The default value of strategy will change from stratified to prior in 0.24.',)\n",
            "ExtraTreeClassifier の正解率 =  1.0\n",
            "ExtraTreesClassifier の正解率 =  1.0\n",
            "GaussianNB の正解率 =  1.0\n",
            "GaussianProcessClassifier の正解率 =  1.0\n",
            "GradientBoostingClassifier の正解率 =  1.0\n",
            "HistGradientBoostingClassifier の正解率 =  1.0\n",
            "KNeighborsClassifier の正解率 =  1.0\n",
            "LabelPropagation の正解率 =  1.0\n",
            "LabelSpreading の正解率 =  1.0\n",
            "LinearDiscriminantAnalysis の正解率 =  1.0\n",
            "\u001b[33mWarning：\u001b[0m LinearSVC : ('Liblinear failed to converge, increase the number of iterations.',)\n",
            "LogisticRegression の正解率 =  1.0\n",
            "\u001b[33mWarning：\u001b[0m LogisticRegressionCV : ('lbfgs failed to converge (status=1):\\nSTOP: TOTAL NO. of ITERATIONS REACHED LIMIT.\\n\\nIncrease the number of iterations (max_iter) or scale the data as shown in:\\n    https://scikit-learn.org/stable/modules/preprocessing.html\\nPlease also refer to the documentation for alternative solver options:\\n    https://scikit-learn.org/stable/modules/linear_model.html#logistic-regression',)\n",
            "\u001b[33mWarning：\u001b[0m MLPClassifier : (\"Stochastic Optimizer: Maximum iterations (200) reached and the optimization hasn't converged yet.\",)\n",
            "\u001b[31mError：\u001b[0m MultiOutputClassifier : (\"__init__() missing 1 required positional argument: 'estimator'\",)\n",
            "MultinomialNB の正解率 =  1.0\n",
            "NearestCentroid の正解率 =  1.0\n",
            "NuSVC の正解率 =  1.0\n",
            "\u001b[31mError：\u001b[0m OneVsOneClassifier : (\"__init__() missing 1 required positional argument: 'estimator'\",)\n",
            "\u001b[31mError：\u001b[0m OneVsRestClassifier : (\"__init__() missing 1 required positional argument: 'estimator'\",)\n",
            "\u001b[31mError：\u001b[0m OutputCodeClassifier : (\"__init__() missing 1 required positional argument: 'estimator'\",)\n",
            "PassiveAggressiveClassifier の正解率 =  0.9666666666666667\n",
            "Perceptron の正解率 =  0.6666666666666666\n",
            "QuadraticDiscriminantAnalysis の正解率 =  1.0\n",
            "RadiusNeighborsClassifier の正解率 =  1.0\n",
            "RandomForestClassifier の正解率 =  1.0\n",
            "RidgeClassifier の正解率 =  0.8333333333333334\n",
            "RidgeClassifierCV の正解率 =  0.8333333333333334\n",
            "SGDClassifier の正解率 =  0.8666666666666667\n",
            "SVC の正解率 =  1.0\n",
            "\u001b[31mError：\u001b[0m StackingClassifier : (\"__init__() missing 1 required positional argument: 'estimators'\",)\n",
            "\u001b[31mError：\u001b[0m VotingClassifier : (\"__init__() missing 1 required positional argument: 'estimators'\",)\n"
          ],
          "name": "stdout"
        }
      ]
    },
    {
      "cell_type": "code",
      "metadata": {
        "id": "AjS4Gv5bnnG8",
        "outputId": "cd8b27c4-bcd3-43a1-f000-0c11b492f493",
        "colab": {
          "base_uri": "https://localhost:8080/",
          "height": 1000
        }
      },
      "source": [
        "from sklearn.model_selection import KFold\n",
        "from sklearn.model_selection import cross_val_score\n",
        "import pandas as pd\n",
        "from sklearn.utils import all_estimators\n",
        "import warnings\n",
        "\n",
        "iris_data = pd.read_csv(\"iris.csv\", encoding=\"utf-8\")\n",
        "\n",
        "y = iris_data.loc[:,\"Name\"]\n",
        "x = iris_data.loc[:,[\"SepalLength\",\"SepalWidth\",\"PetalLength\",\"PetalWidth\"]]\n",
        "\n",
        "allAlgorithms = all_estimators(type_filter=\"classifier\")\n",
        "\n",
        "# K分割クロスバリデ用オブジェ\n",
        "kfold_cv = KFold(n_splits=5, shuffle=True)\n",
        "warnings.filterwarnings('ignore')\n",
        "\n",
        "for(name, algorithm) in allAlgorithms :\n",
        "  try :\n",
        "    # 各アルゴオブジェ作成\n",
        "    if(name == \"LinearSVC\") :\n",
        "      clf = algorithm(max_iter = 10000)\n",
        "    else:\n",
        "      clf = algorithm()\n",
        "\n",
        "    # scoreメソッドをもつクラスを対象\n",
        "    if hasattr(clf,\"score\"):\n",
        "        # クロスバリデ\n",
        "        scores = cross_val_score(clf, x, y, cv=kfold_cv)\n",
        "        print(name,\"の正解率=\")\n",
        "        print(scores)\n",
        "  \n",
        "  except Exception as e :\n",
        "    pass"
      ],
      "execution_count": null,
      "outputs": [
        {
          "output_type": "stream",
          "text": [
            "AdaBoostClassifier の正解率=\n",
            "[0.9        0.9        0.96666667 0.93333333 0.9       ]\n",
            "BaggingClassifier の正解率=\n",
            "[0.93333333 0.96666667 0.93333333 0.96666667 0.96666667]\n",
            "BernoulliNB の正解率=\n",
            "[0.3        0.3        0.26666667 0.26666667 0.16666667]\n",
            "CalibratedClassifierCV の正解率=\n",
            "[0.9        0.93333333 0.9        0.93333333 0.9       ]\n",
            "CategoricalNB の正解率=\n",
            "[0.96666667 0.96666667 0.9        0.83333333 0.96666667]\n",
            "ComplementNB の正解率=\n",
            "[0.53333333 0.6        0.7        0.7        0.8       ]\n",
            "DecisionTreeClassifier の正解率=\n",
            "[0.93333333 0.93333333 1.         0.96666667 0.9       ]\n",
            "DummyClassifier の正解率=\n",
            "[0.3        0.4        0.36666667 0.4        0.3       ]\n",
            "ExtraTreeClassifier の正解率=\n",
            "[0.93333333 0.96666667 0.93333333 0.96666667 0.96666667]\n",
            "ExtraTreesClassifier の正解率=\n",
            "[0.93333333 0.96666667 0.96666667 0.93333333 0.96666667]\n",
            "GaussianNB の正解率=\n",
            "[0.93333333 0.93333333 0.93333333 0.96666667 1.        ]\n",
            "GaussianProcessClassifier の正解率=\n",
            "[0.93333333 0.96666667 0.93333333 1.         0.93333333]\n",
            "GradientBoostingClassifier の正解率=\n",
            "[0.96666667 0.96666667 0.96666667 0.96666667 0.93333333]\n",
            "HistGradientBoostingClassifier の正解率=\n",
            "[0.93333333 0.93333333 0.96666667 0.9        0.96666667]\n",
            "KNeighborsClassifier の正解率=\n",
            "[0.96666667 1.         0.93333333 0.96666667 0.93333333]\n",
            "LabelPropagation の正解率=\n",
            "[0.9        1.         0.96666667 1.         0.93333333]\n",
            "LabelSpreading の正解率=\n",
            "[1.         0.9        0.96666667 0.93333333 0.96666667]\n",
            "LinearDiscriminantAnalysis の正解率=\n",
            "[1.         1.         0.96666667 0.96666667 0.96666667]\n",
            "LinearSVC の正解率=\n",
            "[0.93333333 0.96666667 0.93333333 0.93333333 0.96666667]\n",
            "LogisticRegression の正解率=\n",
            "[1.         0.93333333 0.96666667 0.93333333 0.96666667]\n",
            "LogisticRegressionCV の正解率=\n",
            "[1.         0.96666667 0.93333333 1.         1.        ]\n",
            "MLPClassifier の正解率=\n",
            "[0.9        1.         1.         0.93333333 1.        ]\n",
            "MultinomialNB の正解率=\n",
            "[0.76666667 0.73333333 0.63333333 0.66666667 0.9       ]\n",
            "NearestCentroid の正解率=\n",
            "[0.83333333 0.96666667 0.96666667 0.9        0.93333333]\n",
            "NuSVC の正解率=\n",
            "[1.         0.96666667 1.         0.96666667 0.9       ]\n",
            "PassiveAggressiveClassifier の正解率=\n",
            "[0.9        0.9        0.96666667 0.76666667 0.73333333]\n",
            "Perceptron の正解率=\n",
            "[0.7        0.63333333 0.93333333 0.73333333 0.93333333]\n",
            "QuadraticDiscriminantAnalysis の正解率=\n",
            "[0.93333333 0.96666667 1.         0.96666667 1.        ]\n",
            "RadiusNeighborsClassifier の正解率=\n",
            "[0.9        0.9        0.96666667 0.93333333 0.96666667]\n",
            "RandomForestClassifier の正解率=\n",
            "[0.96666667 0.96666667 0.93333333 0.96666667 0.93333333]\n",
            "RidgeClassifier の正解率=\n",
            "[0.76666667 0.9        0.86666667 0.86666667 0.73333333]\n",
            "RidgeClassifierCV の正解率=\n",
            "[0.86666667 0.86666667 0.76666667 0.8        0.86666667]\n",
            "SGDClassifier の正解率=\n",
            "[0.8        1.         0.76666667 0.7        0.7       ]\n",
            "SVC の正解率=\n",
            "[0.96666667 0.96666667 1.         0.93333333 0.83333333]\n"
          ],
          "name": "stdout"
        }
      ]
    },
    {
      "cell_type": "code",
      "metadata": {
        "id": "JketniSzn9nB",
        "outputId": "dbc6f258-8b1d-4581-ee67-5c86af79096d",
        "colab": {
          "base_uri": "https://localhost:8080/",
          "height": 107
        }
      },
      "source": [
        "import pandas as pd\n",
        "from sklearn.model_selection import train_test_split\n",
        "from sklearn.svm import SVC\n",
        "from sklearn.metrics import accuracy_score\n",
        "from sklearn.model_selection import KFold\n",
        "from sklearn.model_selection import GridSearchCV\n",
        "\n",
        "iris_data = pd.read_csv(\"iris.csv\", encoding=\"utf-8\")\n",
        "\n",
        "y = iris_data.loc[:,\"Name\"]\n",
        "x = iris_data.loc[:,[\"SepalLength\",\"SepalWidth\",\"PetalLength\",\"PetalWidth\"]]\n",
        "\n",
        "x_train, x_test, y_train, y_test = train_test_split(x, y, test_size = 0.2, train_size = 0.8, shuffle = True)\n",
        "\n",
        "# グリッドサーチで利用するパラ指定\n",
        "parameters = [\n",
        "    {\"C\": [1, 10, 100, 1000], \"kernel\":[\"linear\"]},\n",
        "    {\"C\": [1, 10, 100, 1000], \"kernel\":[\"rbf\"], \"gamma\":[0.001, 0.0001]},\n",
        "    {\"C\": [1, 10, 100, 1000], \"kernel\":[\"sigmoid\"], \"gamma\": [0.001, 0.0001]}\n",
        "]\n",
        "\n",
        "# グリッドサーチ\n",
        "kfold_cv = KFold(n_splits=5, shuffle=True)\n",
        "clf = GridSearchCV( SVC(), parameters, cv=kfold_cv)\n",
        "clf.fit(x_train, y_train)\n",
        "print(\"最適なパラメータ = \", clf.best_estimator_)\n",
        "\n",
        "#評価\n",
        "y_pred = clf.predict(x_test)\n",
        "print(\"グリッドサーチの正解率 = \" , accuracy_score(y_test, y_pred))\n"
      ],
      "execution_count": null,
      "outputs": [
        {
          "output_type": "stream",
          "text": [
            "最適なパラメータ =  SVC(C=1000, break_ties=False, cache_size=200, class_weight=None, coef0=0.0,\n",
            "    decision_function_shape='ovr', degree=3, gamma=0.001, kernel='rbf',\n",
            "    max_iter=-1, probability=False, random_state=None, shrinking=True,\n",
            "    tol=0.001, verbose=False)\n",
            "グリッドサーチの正解率 =  1.0\n"
          ],
          "name": "stdout"
        }
      ]
    },
    {
      "cell_type": "code",
      "metadata": {
        "id": "_l5lmwOaFBMI",
        "outputId": "0c4365f8-f639-471d-e6af-32b3a20ef2ab",
        "colab": {
          "base_uri": "https://localhost:8080/",
          "height": 233
        }
      },
      "source": [
        "#numpyの操作確認\n",
        "import numpy as np\n",
        "a = np.array([1,2,3,4,5])\n",
        "print(a)\n",
        "print(type(a))\n",
        "\n",
        "b = np.array([[1,2,3],[4,5,6]])\n",
        "print(b)\n",
        "\n",
        "#0埋め初期化\n",
        "print(np.zeros(10))\n",
        "print(np.zeros((3,2)))\n",
        "print(np.zeros(2))\n",
        "\n",
        "#要素を指定して初期化\n",
        "print(np.arange(5))\n",
        "print(np.arange(2,9))\n",
        "print(np.arange(5,8,0.5))"
      ],
      "execution_count": null,
      "outputs": [
        {
          "output_type": "stream",
          "text": [
            "[1 2 3 4 5]\n",
            "<class 'numpy.ndarray'>\n",
            "[[1 2 3]\n",
            " [4 5 6]]\n",
            "[0. 0. 0. 0. 0. 0. 0. 0. 0. 0.]\n",
            "[[0. 0.]\n",
            " [0. 0.]\n",
            " [0. 0.]]\n",
            "[0. 0.]\n",
            "[0 1 2 3 4]\n",
            "[2 3 4 5 6 7 8]\n",
            "[5.  5.5 6.  6.5 7.  7.5]\n"
          ],
          "name": "stdout"
        }
      ]
    },
    {
      "cell_type": "code",
      "metadata": {
        "id": "WuI4hWbTmiMj",
        "outputId": "e023931a-17fb-42b5-d726-4d3850d3695d",
        "colab": {
          "base_uri": "https://localhost:8080/",
          "height": 341
        }
      },
      "source": [
        "#行列\n",
        "a = np.array([1,2,3,4,5])\n",
        "b = a*2\n",
        "print(b)\n",
        "\n",
        "x = np.array(10)\n",
        "print(x)\n",
        "y = 3*x+5\n",
        "print(y)\n",
        "\n",
        "#次元\n",
        "a = np.array([[1,2,3],[4,5,6]])\n",
        "print(a)\n",
        "print(a.shape)\n",
        "b = np.array([[1,2,3],[4,5,6],[7,8,9]])\n",
        "print(b)\n",
        "print(b.shape)\n",
        "\n",
        "#次元変換\n",
        "a = np.array([[1,2,3],[4,5,6]])\n",
        "print(\"a = \",a)\n",
        "b = a.flatten()\n",
        "print(\"b = \",b)\n",
        "\n",
        "#回転\n",
        "a = np.array([[1,2,3],[4,5,6]])\n",
        "print(a)\n",
        "b = a.reshape(3,2)\n",
        "print(b)"
      ],
      "execution_count": null,
      "outputs": [
        {
          "output_type": "stream",
          "text": [
            "[ 2  4  6  8 10]\n",
            "10\n",
            "35\n",
            "[[1 2 3]\n",
            " [4 5 6]]\n",
            "(2, 3)\n",
            "[[1 2 3]\n",
            " [4 5 6]\n",
            " [7 8 9]]\n",
            "(3, 3)\n",
            "a =  [[1 2 3]\n",
            " [4 5 6]]\n",
            "b =  [1 2 3 4 5 6]\n",
            "[[1 2 3]\n",
            " [4 5 6]]\n",
            "[[1 2]\n",
            " [3 4]\n",
            " [5 6]]\n"
          ],
          "name": "stdout"
        }
      ]
    },
    {
      "cell_type": "code",
      "metadata": {
        "id": "-LN7xFZ2n8YF",
        "outputId": "8b15d395-f475-4b97-d077-90e2c5c74dea",
        "colab": {
          "base_uri": "https://localhost:8080/",
          "height": 89
        }
      },
      "source": [
        "v = np.array([[1,2,3],[4,5,6],[7,8,9]])\n",
        "a = v[0]\n",
        "print(a)\n",
        "b = v[1:]\n",
        "print(b)\n",
        "c = v[:,0]\n",
        "print(c)"
      ],
      "execution_count": null,
      "outputs": [
        {
          "output_type": "stream",
          "text": [
            "[1 2 3]\n",
            "[[4 5 6]\n",
            " [7 8 9]]\n",
            "[1 4 7]\n"
          ],
          "name": "stdout"
        }
      ]
    }
  ]
}